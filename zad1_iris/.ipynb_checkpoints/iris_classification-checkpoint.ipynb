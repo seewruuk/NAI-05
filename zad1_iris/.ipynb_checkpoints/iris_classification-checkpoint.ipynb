{
 "cells": [
  {
   "cell_type": "code",
   "execution_count": null,
   "id": "initial_id",
   "metadata": {
    "collapsed": true
   },
   "outputs": [],
   "source": [
    "import tensorflow as tf\n",
    "import numpy as np\n",
    "import pandas as pd\n",
    "import matplotlib.pyplot as plt\n",
    "import os\n",
    "\n",
    "# Tworzymy katalog logs jeśli nie istnieje\n",
    "os.makedirs('logs', exist_ok=True)\n",
    "\n",
    "# Wczytanie danych Iris\n",
    "data = pd.read_csv('iris.csv')\n",
    "# Zakładamy, że 'species' ma wartości: Iris-setosa, Iris-versicolor, Iris-virginica\n",
    "X = data[['sepal_length','sepal_width','petal_length','petal_width']].values\n",
    "y_labels = data['species'].astype('category').cat.codes.values  # 0,1,2\n",
    "y = tf.keras.utils.to_categorical(y_labels, num_classes=3)\n",
    "\n",
    "# Podział na train/test\n",
    "from sklearn.model_selection import train_test_split\n",
    "X_train, X_test, y_train, y_test = train_test_split(X, y, test_size=0.2, random_state=42)\n",
    "\n",
    "# Normalizacja danych\n",
    "mean = X_train.mean(axis=0)\n",
    "std = X_train.std(axis=0)\n",
    "X_train = (X_train - mean) / std\n",
    "X_test = (X_test - mean) / std\n",
    "\n",
    "# Model MLP\n",
    "model = tf.keras.Sequential([\n",
    "    tf.keras.layers.Dense(16, activation='relu', input_shape=(4,)),\n",
    "    tf.keras.layers.Dense(8, activation='relu'),\n",
    "    tf.keras.layers.Dense(3, activation='softmax')\n",
    "])\n",
    "\n",
    "model.compile(optimizer='adam', loss='categorical_crossentropy', metrics=['accuracy'])\n",
    "history = model.fit(X_train, y_train, validation_split=0.2, epochs=50, batch_size=8, verbose=0)\n",
    "\n",
    "loss, accuracy = model.evaluate(X_test, y_test, verbose=0)\n",
    "print(\"MLP Test Accuracy:\", accuracy)\n",
    "\n",
    "# Klasyczny model: pojedyncza warstwa Dense (odpowiednik regresji logistycznej)\n",
    "logistic_model = tf.keras.Sequential([\n",
    "    tf.keras.layers.Dense(3, activation='softmax', input_shape=(4,))\n",
    "])\n",
    "logistic_model.compile(optimizer='adam', loss='categorical_crossentropy', metrics=['accuracy'])\n",
    "logistic_model.fit(X_train, y_train, validation_split=0.2, epochs=50, batch_size=8, verbose=0)\n",
    "loss_log, acc_log = logistic_model.evaluate(X_test, y_test, verbose=0)\n",
    "print(\"Logistic-like Model Test Accuracy:\", acc_log)\n",
    "\n",
    "# Zapis wyników\n",
    "with open('logs/results_iris.txt', 'w') as f:\n",
    "    f.write(f\"MLP Accuracy: {accuracy}\\n\")\n",
    "    f.write(f\"Logistic-like Accuracy: {acc_log}\\n\")\n",
    "\n",
    "# Wykres\n",
    "plt.plot(history.history['accuracy'], label='train accuracy')\n",
    "plt.plot(history.history['val_accuracy'], label='val accuracy')\n",
    "plt.legend()\n",
    "plt.title('Training history (Iris MLP)')\n",
    "plt.savefig('logs/training_history_iris.png')\n",
    "plt.show()\n"
   ]
  }
 ],
 "metadata": {
  "kernelspec": {
   "display_name": "Python 3",
   "language": "python",
   "name": "python3"
  },
  "language_info": {
   "codemirror_mode": {
    "name": "ipython",
    "version": 2
   },
   "file_extension": ".py",
   "mimetype": "text/x-python",
   "name": "python",
   "nbconvert_exporter": "python",
   "pygments_lexer": "ipython2",
   "version": "2.7.6"
  }
 },
 "nbformat": 4,
 "nbformat_minor": 5
}
